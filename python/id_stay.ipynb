{
 "cells": [
  {
   "cell_type": "code",
   "execution_count": 1,
   "metadata": {},
   "outputs": [],
   "source": [
    "import pandas as pd"
   ]
  },
  {
   "cell_type": "code",
   "execution_count": 47,
   "metadata": {},
   "outputs": [],
   "source": [
    "def compute_stay_time(line):\n",
    "    words = line.split(',')\n",
    "    index = 1\n",
    "    last = len(words) - 1\n",
    "    while(index < (last - 1)):\n",
    "        if(index % 2 == 0):\n",
    "            words[index] = str(int(words[index + 2]) - int(words[index]))\n",
    "        index += 1\n",
    "    words[last] = '-1'\n",
    "    return ','.join(words) + '\\n'\n",
    "            "
   ]
  },
  {
   "cell_type": "code",
   "execution_count": 48,
   "metadata": {},
   "outputs": [],
   "source": [
    "def save_to_csv(data, des):\n",
    "    with open(des, 'a') as f:\n",
    "        for item in data:\n",
    "            f.write(item)"
   ]
  },
  {
   "cell_type": "code",
   "execution_count": 49,
   "metadata": {},
   "outputs": [],
   "source": [
    "def transform(src, des):\n",
    "    with open(src, \"r\") as f:\n",
    "        data = []\n",
    "        line = f.readline().strip()\n",
    "        while line:\n",
    "            item = compute_stay_time(line)\n",
    "            data.append(item)\n",
    "            line = f.readline().strip()\n",
    "        save_to_csv(data, des)"
   ]
  },
  {
   "cell_type": "code",
   "execution_count": 50,
   "metadata": {},
   "outputs": [],
   "source": [
    "transform(\"day_id/day1_id.csv\", \"day_id/day1_person_stay_time.csv\")"
   ]
  },
  {
   "cell_type": "code",
   "execution_count": 51,
   "metadata": {},
   "outputs": [],
   "source": [
    "transform(\"day_id/day2_id.csv\", \"day_id/day2_person_stay_time.csv\")\n",
    "transform(\"day_id/day3_id.csv\", \"day_id/day3_person_stay_time.csv\")"
   ]
  }
 ],
 "metadata": {
  "kernelspec": {
   "display_name": "Python 3",
   "language": "python",
   "name": "python3"
  },
  "language_info": {
   "codemirror_mode": {
    "name": "ipython",
    "version": 3
   },
   "file_extension": ".py",
   "mimetype": "text/x-python",
   "name": "python",
   "nbconvert_exporter": "python",
   "pygments_lexer": "ipython3",
   "version": "3.6.8"
  }
 },
 "nbformat": 4,
 "nbformat_minor": 2
}
