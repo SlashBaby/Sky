{
 "cells": [
  {
   "cell_type": "code",
   "execution_count": 1,
   "metadata": {},
   "outputs": [],
   "source": [
    "import pandas as pd\n",
    "import json"
   ]
  },
  {
   "cell_type": "code",
   "execution_count": 2,
   "metadata": {},
   "outputs": [],
   "source": [
    "def save_to_json(data):\n",
    "    with open('../data/people/people.json', 'w') as f:\n",
    "        json.dump(data, f, ensure_ascii=False)"
   ]
  },
  {
   "cell_type": "code",
   "execution_count": 3,
   "metadata": {},
   "outputs": [],
   "source": [
    "#load data\n",
    "df_day1 = pd.read_csv('../data/logs/day1.csv')\n",
    "df_day2 = pd.read_csv('../data/logs/day2.csv')\n",
    "df_day3 = pd.read_csv('../data/logs/day3.csv')"
   ]
  },
  {
   "cell_type": "code",
   "execution_count": 4,
   "metadata": {},
   "outputs": [],
   "source": [
    "def init_people():\n",
    "    #parse\n",
    "    day1 = df_day1['id'].drop_duplicates().to_list()\n",
    "    day2 = df_day2['id'].drop_duplicates().to_list()\n",
    "    day3 = df_day3['id'].drop_duplicates().to_list()\n",
    "    day = day1 + day2 + day3\n",
    "    for i in range(len(day)):\n",
    "        yield {\n",
    "            'id': day[i],\n",
    "        }"
   ]
  },
  {
   "cell_type": "code",
   "execution_count": 5,
   "metadata": {},
   "outputs": [],
   "source": [
    "def init_types():\n",
    "    return [\n",
    "        {'id': 0, 'name': '所有', 'father': -1}\n",
    "    ]"
   ]
  },
  {
   "cell_type": "code",
   "execution_count": 6,
   "metadata": {},
   "outputs": [],
   "source": [
    "def init_relations():\n",
    "    for p in init_people():\n",
    "        yield {'pid': p['id'], 'tid': 0}"
   ]
  },
  {
   "cell_type": "code",
   "execution_count": 7,
   "metadata": {},
   "outputs": [],
   "source": [
    "save_to_json({\n",
    "    'people': [people for people in init_people()],\n",
    "    'types': init_types(),\n",
    "    'relations': [r for r in init_relations()]\n",
    "})"
   ]
  }
 ],
 "metadata": {
  "kernelspec": {
   "display_name": "Python 3",
   "language": "python",
   "name": "python3"
  },
  "language_info": {
   "codemirror_mode": {
    "name": "ipython",
    "version": 3
   },
   "file_extension": ".py",
   "mimetype": "text/x-python",
   "name": "python",
   "nbconvert_exporter": "python",
   "pygments_lexer": "ipython3",
   "version": "3.6.8"
  }
 },
 "nbformat": 4,
 "nbformat_minor": 2
}
