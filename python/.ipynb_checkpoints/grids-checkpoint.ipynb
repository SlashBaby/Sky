{
 "cells": [
  {
   "cell_type": "code",
   "execution_count": 1,
   "metadata": {},
   "outputs": [],
   "source": [
    "import pandas as pd\n",
    "import json"
   ]
  },
  {
   "cell_type": "code",
   "execution_count": 2,
   "metadata": {},
   "outputs": [],
   "source": [
    "def save_to_json(data):\n",
    "    with open('../data/grids/grids.json', 'w') as f:\n",
    "        json.dump(data, f, ensure_ascii=False)"
   ]
  },
  {
   "cell_type": "code",
   "execution_count": 3,
   "metadata": {},
   "outputs": [],
   "source": [
    "def init_grids(floor, row, col):\n",
    "    index = -1;\n",
    "    for f in range(1, floor + 1):\n",
    "        for r in range(row):\n",
    "            for c in range(col):\n",
    "                index += 1\n",
    "                yield {\n",
    "                    'id': index,\n",
    "                    'floor': f,\n",
    "                    'x': r,\n",
    "                    'y': c,\n",
    "                    'isSelected': 0\n",
    "            }"
   ]
  },
  {
   "cell_type": "code",
   "execution_count": 4,
   "metadata": {},
   "outputs": [],
   "source": [
    "def init_grid_types():\n",
    "    return [\n",
    "        {'id': 0, 'name': '所有', 'father': -1},\n",
    "        {'id': 1, 'name': '第一层', 'father': 0},\n",
    "        {'id': 2, 'name': '第二层', 'father': 0}\n",
    "    ]"
   ]
  },
  {
   "cell_type": "code",
   "execution_count": 5,
   "metadata": {},
   "outputs": [],
   "source": [
    "def init_relations():\n",
    "    for grid in init_grids(2, 16, 30):\n",
    "        yield {'gid': grid['id'], 'tid': 0}\n",
    "        if grid['floor'] == 1:\n",
    "            yield {'gid': grid['id'], 'tid': 1}\n",
    "        else:\n",
    "            yield {'gid': grid['id'], 'tid': 2}"
   ]
  },
  {
   "cell_type": "code",
   "execution_count": 6,
   "metadata": {},
   "outputs": [],
   "source": [
    "save_to_json({\n",
    "    'grids': [g for g in init_grids(2, 16, 30)],\n",
    "    'types': init_grid_types(),\n",
    "    'relations':[r for r in init_relations()]\n",
    "})"
   ]
  }
 ],
 "metadata": {
  "kernelspec": {
   "display_name": "Python 3",
   "language": "python",
   "name": "python3"
  },
  "language_info": {
   "codemirror_mode": {
    "name": "ipython",
    "version": 3
   },
   "file_extension": ".py",
   "mimetype": "text/x-python",
   "name": "python",
   "nbconvert_exporter": "python",
   "pygments_lexer": "ipython3",
   "version": "3.6.8"
  }
 },
 "nbformat": 4,
 "nbformat_minor": 2
}
