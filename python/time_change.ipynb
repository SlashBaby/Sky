{
 "cells": [
  {
   "cell_type": "code",
   "execution_count": 1,
   "metadata": {},
   "outputs": [],
   "source": [
    "import pandas as pd"
   ]
  },
  {
   "cell_type": "code",
   "execution_count": 2,
   "metadata": {},
   "outputs": [],
   "source": [
    "from collections import defaultdict"
   ]
  },
  {
   "cell_type": "code",
   "execution_count": 3,
   "metadata": {},
   "outputs": [],
   "source": [
    "def compute_change(df):\n",
    "    grouped_by_time = df.groupby('time')\n",
    "    res = []\n",
    "    sid_by_id = defaultdict(lambda: None) #记录每个人所对应的sid\n",
    "    for key, group in grouped_by_time:\n",
    "        index_by_sid = defaultdict(lambda: None) #记录每个sensor在sids里面的index\n",
    "        time = int(key)\n",
    "        values = group[['sid', 'id']].values\n",
    "        sids = [] #记录当前时间点所有发生变化的sensor区域\n",
    "        index = 0\n",
    "        for item in values:\n",
    "            sid_key = str(item[0])\n",
    "            id_key = str(item[1])\n",
    "\n",
    "            #计算增加的人\n",
    "            if not index_by_sid[sid_key]:\n",
    "                index_by_sid[sid_key] = index\n",
    "                index += 1\n",
    "                sids.append([int(sid_key), 1])\n",
    "            else:\n",
    "                sids[index_by_sid[sid_key]][1] += 1\n",
    "\n",
    "            #计算减少的人\n",
    "            if sid_by_id[id_key]:\n",
    "                #如果在会场里面\n",
    "                sid_key_old = sid_by_id[id_key]\n",
    "                if not index_by_sid[sid_key_old]:\n",
    "                    #如果这个传感器没有出现，就增加\n",
    "                    index_by_sid[sid_key_old] = index\n",
    "                    index += 1\n",
    "                    sids.append([int(sid_key_old), -1])\n",
    "                else:\n",
    "                    #如果这个传感器出现了，就修改\n",
    "                    sids[index_by_sid[sid_key_old]][1] -= 1\n",
    "                    \n",
    "            #更新位置\n",
    "            sid_by_id[id_key] = int(sid_key)\n",
    "\n",
    "        res.append({\n",
    "            't':time,\n",
    "            's':sids\n",
    "        })\n",
    "    return res"
   ]
  },
  {
   "cell_type": "code",
   "execution_count": 4,
   "metadata": {},
   "outputs": [],
   "source": [
    "def save_to_csv(des, res):\n",
    "    with open(des, 'a') as f:\n",
    "        for item in res:\n",
    "            words = []\n",
    "            words.append(str(item['time']))\n",
    "            for sensor in item['sids']:\n",
    "                words.append(str(sensor['sid']))\n",
    "                words.append(str(sensor['change']))\n",
    "            f.write(','.join(words) + '\\n')"
   ]
  },
  {
   "cell_type": "code",
   "execution_count": 5,
   "metadata": {},
   "outputs": [],
   "source": [
    "import json\n",
    "def save_to_json(data, des):\n",
    "    with open(des, 'w') as f:\n",
    "        json.dump(data, f, ensure_ascii=False)"
   ]
  },
  {
   "cell_type": "code",
   "execution_count": 6,
   "metadata": {},
   "outputs": [],
   "source": [
    "def transform(src, des):\n",
    "    df = pd.read_csv(src)\n",
    "    data = compute_change(df)\n",
    "    save_to_json(data, des)"
   ]
  },
  {
   "cell_type": "code",
   "execution_count": 7,
   "metadata": {},
   "outputs": [],
   "source": [
    "# transform(\"../data/logs/day1.csv\", \"../data/time/time_day1.json\")"
   ]
  },
  {
   "cell_type": "code",
   "execution_count": 8,
   "metadata": {},
   "outputs": [],
   "source": [
    "transform(\"../data/logs/day2.csv\", \"../data/time/time_day2.json\")"
   ]
  },
  {
   "cell_type": "code",
   "execution_count": 9,
   "metadata": {},
   "outputs": [],
   "source": [
    "# transform(\"day3.csv\", \"day3_time_sensor_change.csv\")"
   ]
  }
 ],
 "metadata": {
  "kernelspec": {
   "display_name": "Python 3",
   "language": "python",
   "name": "python3"
  },
  "language_info": {
   "codemirror_mode": {
    "name": "ipython",
    "version": 3
   },
   "file_extension": ".py",
   "mimetype": "text/x-python",
   "name": "python",
   "nbconvert_exporter": "python",
   "pygments_lexer": "ipython3",
   "version": "3.6.8"
  }
 },
 "nbformat": 4,
 "nbformat_minor": 2
}
